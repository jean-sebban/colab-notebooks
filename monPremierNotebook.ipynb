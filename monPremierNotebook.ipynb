{
  "nbformat": 4,
  "nbformat_minor": 0,
  "metadata": {
    "colab": {
      "provenance": [],
      "authorship_tag": "ABX9TyMQCyKI7fkVIwVKIoWUKtZm",
      "include_colab_link": true
    },
    "kernelspec": {
      "name": "ir",
      "display_name": "R"
    },
    "language_info": {
      "name": "R"
    }
  },
  "cells": [
    {
      "cell_type": "markdown",
      "metadata": {
        "id": "view-in-github",
        "colab_type": "text"
      },
      "source": [
        "<a href=\"https://colab.research.google.com/github/jean-sebban/colab-notebooks/blob/main/monPremierNotebook.ipynb\" target=\"_parent\"><img src=\"https://colab.research.google.com/assets/colab-badge.svg\" alt=\"Open In Colab\"/></a>"
      ]
    },
    {
      "cell_type": "code",
      "execution_count": 2,
      "metadata": {
        "colab": {
          "base_uri": "https://localhost:8080/",
          "height": 329
        },
        "id": "-5Z3FU-qsHQx",
        "outputId": "8a1796da-8eba-4b6b-dba9-5b3701a8c112"
      },
      "outputs": [
        {
          "output_type": "display_data",
          "data": {
            "text/plain": [
              "\n",
              "Call:\n",
              "lm(formula = cars$dist ~ cars$speed)\n",
              "\n",
              "Residuals:\n",
              "    Min      1Q  Median      3Q     Max \n",
              "-29.069  -9.525  -2.272   9.215  43.201 \n",
              "\n",
              "Coefficients:\n",
              "            Estimate Std. Error t value Pr(>|t|)    \n",
              "(Intercept) -17.5791     6.7584  -2.601   0.0123 *  \n",
              "cars$speed    3.9324     0.4155   9.464 1.49e-12 ***\n",
              "---\n",
              "Signif. codes:  0 ‘***’ 0.001 ‘**’ 0.01 ‘*’ 0.05 ‘.’ 0.1 ‘ ’ 1\n",
              "\n",
              "Residual standard error: 15.38 on 48 degrees of freedom\n",
              "Multiple R-squared:  0.6511,\tAdjusted R-squared:  0.6438 \n",
              "F-statistic: 89.57 on 1 and 48 DF,  p-value: 1.49e-12\n"
            ]
          },
          "metadata": {}
        }
      ],
      "source": [
        "library(dplyr)\n",
        "summary(lm(cars$dist~cars$speed))"
      ]
    },
    {
      "cell_type": "code",
      "source": [],
      "metadata": {
        "id": "tbaCk_frslWl"
      },
      "execution_count": null,
      "outputs": []
    }
  ]
}